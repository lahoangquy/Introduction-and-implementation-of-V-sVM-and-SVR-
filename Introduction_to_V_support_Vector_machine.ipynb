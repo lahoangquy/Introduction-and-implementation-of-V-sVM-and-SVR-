{
  "nbformat": 4,
  "nbformat_minor": 0,
  "metadata": {
    "colab": {
      "provenance": []
    },
    "kernelspec": {
      "name": "python3",
      "display_name": "Python 3"
    },
    "language_info": {
      "name": "python"
    }
  },
  "cells": [
    {
      "cell_type": "markdown",
      "source": [
        "With real datasets, SVMs can extract a very large number of support vectors to increase the accuracy, and this strategy can slow down the whole process. To find a trade-off between precision and the number of support vectors, it is possible to employ a slightly different model called v-SVM.\n",
        "\n",
        "\n",
        "The V-support vector machine (V-SVM) is a type of machine learning algorithm used for classificationa dn regression tasks. It is an extension of the traditional Support Vector Machine (SVM) algorhtm that allows for more flexible decision boundary.\n",
        "\n",
        "In the traditional SVM algorithm the goal is to find the hyperplane that maximally separates the classes in the feature space. Howerver, in some cases, the classes may not be completely seperable by a hyperplane, and some missclassifcation may be allowed.\n",
        "\n",
        "The V-SVM algorithm addresses this limitation by introduction a new parameter called \"v\" which controls the trade-off between the margin size and the number of training errors. By adjusting the value of  \"v\", the algorithm can be tuned ot either prioritize a larger marin or a smaller number of training errors.\n",
        "\n",
        "\n",
        "Scikit learn provide an implmentaition called NuSVC where the parameter v is called nu. To test this model, let's consider an example of a linear kernel and a simple dataset with a non-negliigible overlap."
      ],
      "metadata": {
        "id": "HyWrH_ytnRYc"
      }
    }
  ]
}
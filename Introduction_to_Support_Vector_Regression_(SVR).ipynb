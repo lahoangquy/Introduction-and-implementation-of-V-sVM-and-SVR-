{
  "nbformat": 4,
  "nbformat_minor": 0,
  "metadata": {
    "colab": {
      "provenance": []
    },
    "kernelspec": {
      "name": "python3",
      "display_name": "Python 3"
    },
    "language_info": {
      "name": "python"
    }
  },
  "cells": [
    {
      "cell_type": "markdown",
      "source": [
        "Support Vector Regression (SVR) is a type of machine learning algorithm used for regression tasks, which means predicting a continuous output variable based on input variables.\n",
        "\n",
        "In SVR, the goal is to find a hyperplane (or a higher dimensional plane ) that maximizes the margin between the predicted output values and the actual output values, while also minimizing the error between the predicted and actual values. The hyperplane is defined by a subset of the training data called support vectors.\n",
        "\n",
        "SVR is often used in situations where there is a nolinear relationship between the input and output variables. To handle nonlinear relationships, SVR uses a kernel function to map the input variables into a higher-dimensional sapce where it is easier to find a hyperplane that separates the data.\n",
        "\n",
        "\n",
        "Overall, SVR is a powerful machine learning algorithm that can be sued for a variety of regression tasks, particularly when the relationship between input and output variables is nonlinear."
      ],
      "metadata": {
        "id": "aQTCRXJFMTMW"
      }
    }
  ]
}